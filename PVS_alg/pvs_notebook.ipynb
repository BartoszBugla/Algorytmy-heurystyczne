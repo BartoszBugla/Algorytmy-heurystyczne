{
 "cells": [
  {
   "attachments": {},
   "cell_type": "markdown",
   "metadata": {},
   "source": [
    "# Testy Funkcji"
   ]
  },
  {
   "cell_type": "code",
   "execution_count": 48,
   "metadata": {
    "ExecuteTime": {
     "end_time": "2023-11-18T15:34:07.808268600Z",
     "start_time": "2023-11-18T15:34:07.687919500Z"
    }
   },
   "outputs": [
    {
     "name": "stdout",
     "output_type": "stream",
     "text": [
      "The autoreload extension is already loaded. To reload it, use:\n",
      "  %reload_ext autoreload\n"
     ]
    }
   ],
   "source": [
    "\n",
    "%load_ext autoreload\n",
    "%autoreload 2\n",
    "\n",
    "from pvs import PVS\n",
    "import matplotlib.pyplot as plt\n",
    "from results import Tester\n",
    "from funcs import *\n",
    "\n",
    "\n",
    "pvs: PVS = PVS()"
   ]
  },
  {
   "cell_type": "code",
   "execution_count": 49,
   "metadata": {
    "ExecuteTime": {
     "end_time": "2023-11-18T15:34:08.378574Z",
     "start_time": "2023-11-18T15:34:08.307328100Z"
    }
   },
   "outputs": [],
   "source": [
    "class Solver:\n",
    "    solutions: Tester\n",
    "\n",
    "    def __init__(self, fun, ps, gen, dv, lb, ub, samples, lb_y=None, ub_y=None) -> None:\n",
    "        self.fun = fun\n",
    "        self.DV = dv\n",
    "        self.PS = ps\n",
    "        self.GEN = gen\n",
    "        self.DV = dv\n",
    "        self.LB = lb\n",
    "        self.UB = ub\n",
    "        self.samples = samples\n",
    "        self.fun_name = fun.__name__\n",
    "\n",
    "        self.ub_y = ub_y\n",
    "        self.lb_y = lb_y\n",
    "\n",
    "    def solver(self):\n",
    "        return pvs.solve(\n",
    "            self.fun, \"domain\", [self.PS, self.GEN, self.DV, self.LB, self.UB, self.lb_y, self.ub_y]\n",
    "        )\n",
    "\n",
    "    def generate_row(self):\n",
    "        self.solutions = Tester(self.solver, self.samples)\n",
    "\n",
    "        return [\n",
    "            \"PVS\",\n",
    "            self.fun_name,\n",
    "            self.DV,\n",
    "            self.GEN,\n",
    "            self.PS,\n",
    "            np.round(self.solutions.best_solution()[0], 3),\n",
    "            list(np.round(self.solutions.get_x_std(), 3)),\n",
    "            \"{:.2e}\".format(self.solutions.best_solution()[1]),\n",
    "            np.round(self.solutions.get_y_std(), 3),\n",
    "            self.samples,\n",
    "            list(np.round(self.solutions.get_variation_x(), 3)),\n",
    "            np.round(self.solutions.get_variation_y(), 3),\n",
    "            \"{:.2e}\".format(self.solutions.worst_solution()),\n",
    "            self.PS * self.GEN,\n",
    "        ]"
   ]
  },
  {
   "cell_type": "code",
   "execution_count": 50,
   "outputs": [
    {
     "data": {
      "text/plain": "(array([ 2.04322645e-08, -9.27246621e-06]), 1.7057562473610233e-08)"
     },
     "execution_count": 50,
     "metadata": {},
     "output_type": "execute_result"
    }
   ],
   "source": [
    "Solver(Rastrigin, 20, 100, 2, -5.12, 5.12, 20).solver()"
   ],
   "metadata": {
    "collapsed": false,
    "ExecuteTime": {
     "end_time": "2023-11-18T15:34:09.462454200Z",
     "start_time": "2023-11-18T15:34:09.251066Z"
    }
   }
  },
  {
   "cell_type": "code",
   "execution_count": 51,
   "metadata": {
    "ExecuteTime": {
     "end_time": "2023-11-18T15:34:12.843524Z",
     "start_time": "2023-11-18T15:34:09.941214500Z"
    }
   },
   "outputs": [
    {
     "name": "stdout",
     "output_type": "stream",
     "text": [
      "Solutions:  [(array([3.73113907e-07, 6.43933196e-08]), 2.844302571247681e-11), (array([-8.01319472e-06, -1.72138717e-05]), 7.152603487270426e-08), (array([-0.03772213,  0.00524246]), 0.2864433431317899), (array([4.52348238e-08, 4.24059174e-08]), 7.638334409421077e-13), (array([-2.85320379e-05,  3.53813007e-04]), 2.499694079816095e-05), (array([-4.74857522e-07,  1.40683877e-06]), 4.3739234456552367e-10), (array([-2.19758586e-06,  1.01046822e-06]), 1.1606786642914813e-09), (array([-2.58078570e-07,  2.61310866e-07]), 2.6759039428725373e-11), (array([ 6.92968499e-10, -1.54754211e-09]), 0.0), (array([-3.95796109e-04, -9.94691971e-01]), 0.9950042367344771), (array([-1.62284740e-09,  2.78409671e-09]), 0.0), (array([ 0.05106923, -0.00489865]), 0.5177781457491406), (array([9.94961133e-01, 8.70701599e-07]), 0.9949590584786989), (array([1.58097364e-07, 9.94958850e-01]), 0.9949590571072093), (array([-0.00091575,  0.00180701]), 0.0008141670514092425), (array([ 8.06441985e-06, -3.54349099e-06]), 1.5393478491887436e-08), (array([6.35910784e-07, 6.25420886e-08]), 8.100187187665142e-11), (array([-9.94958493e-01, -1.11934995e-06]), 0.9949590573460156), (array([-0.00011684,  0.00044695]), 4.233945994869259e-05), (array([-0.00035687, -0.00048185]), 7.132929403752541e-05)]\n",
      "Y: [2.844302571247681e-11, 7.152603487270426e-08, 0.2864433431317899, 7.638334409421077e-13, 2.499694079816095e-05, 4.3739234456552367e-10, 1.1606786642914813e-09, 2.6759039428725373e-11, 0.0, 0.9950042367344771, 0.0, 0.5177781457491406, 0.9949590584786989, 0.9949590571072093, 0.0008141670514092425, 1.5393478491887436e-08, 8.100187187665142e-11, 0.9949590573460156, 4.233945994869259e-05, 7.132929403752541e-05]\n",
      "X: [array([3.73113907e-07, 6.43933196e-08]), array([-8.01319472e-06, -1.72138717e-05]), array([-0.03772213,  0.00524246]), array([4.52348238e-08, 4.24059174e-08]), array([-2.85320379e-05,  3.53813007e-04]), array([-4.74857522e-07,  1.40683877e-06]), array([-2.19758586e-06,  1.01046822e-06]), array([-2.58078570e-07,  2.61310866e-07]), array([ 6.92968499e-10, -1.54754211e-09]), array([-3.95796109e-04, -9.94691971e-01]), array([-1.62284740e-09,  2.78409671e-09]), array([ 0.05106923, -0.00489865]), array([9.94961133e-01, 8.70701599e-07]), array([1.58097364e-07, 9.94958850e-01]), array([-0.00091575,  0.00180701]), array([ 8.06441985e-06, -3.54349099e-06]), array([6.35910784e-07, 6.25420886e-08]), array([-9.94958493e-01, -1.11934995e-06]), array([-0.00011684,  0.00044695]), array([-0.00035687, -0.00048185])]\n"
     ]
    }
   ],
   "source": [
    "import pandas as pd\n",
    "\n",
    "samples = 20\n",
    "df = pd.DataFrame(\n",
    "    [\n",
    "        # rastrigin\n",
    "        Solver(Rastrigin, 20, 100, 2, -5.12, 5.12, samples).generate_row(),\n",
    "        # Solver(Rastrigin, 50, 250, 5, -5.12, 5.12, samples).generate_row(),\n",
    "        # Solver(Rastrigin, 100, 500, 10, -5.12, 5.12, samples).generate_row(),\n",
    "        \n",
    "        # Solver(Rosenbrock, 20, 100, 2, -20, 20, samples).generate_row(),\n",
    "        # Solver(Rosenbrock, 50, 250, 5, -20, 20, samples).generate_row(),\n",
    "        # Solver(Rosenbrock, 100, 500, 10, -20, 20, samples).generate_row(),\n",
    "        # \n",
    "        # Solver(Sphere, 20, 100, 2, -20,20, samples).generate_row(),\n",
    "        # Solver(Sphere, 50, 250, 5, -20, 20, samples).generate_row(),\n",
    "        # Solver(Sphere, 100, 500, 10, -20, 20, samples).generate_row(),\n",
    "        # \n",
    "        # Solver(Beale, 20, 50, 2, -4.5, 4.5, samples).generate_row(),\n",
    "        # Solver(Beale, 40, 100, 2, -4.5, 4.5, samples).generate_row(),\n",
    "        # \n",
    "        # Solver(Bukin, 20, 100, 2, -15, -5, samples, -3,3).generate_row(),\n",
    "        # Solver(Bukin, 40, 200, 2, -15, -5, samples, -3, 3).generate_row(),\n",
    "        # \n",
    "        # Solver(Himmelblau, 20, 50, 2, -5, 5, samples).generate_row(),\n",
    "        # Solver(Himmelblau, 40, 100, 2, -5, 5, samples).generate_row(),\n",
    "    ],\n",
    "    columns=[\n",
    "        \"Nazwa Alogrytmu\",\n",
    "        \"Funkcja testowa\",\n",
    "        \"Ilość szukanych parametrów\",\n",
    "        \"Liczba Iteracji\",\n",
    "        \"Rozmiar populacji\",\n",
    "        \"Znalezione minimum\",\n",
    "        \"Odchylenie standardowe poszukiwanych parametrów\",\n",
    "        \"Wartosć funkcji celu\",\n",
    "        \"Odchylenie standardowe wartośći funkcji celu\",\n",
    "        \"Ilość próbek\",\n",
    "        \"Wskaźnik zmiennośći parametrów\",\n",
    "        \"Wskaźnik zmienności funkcji\",\n",
    "        \"Najgorszy wynik\",\n",
    "        \"Ilosć przeliczeń funkcji\",\n",
    "    ],\n",
    ")\n",
    "\n",
    "df.to_excel(\"wyniki.xlsx\")"
   ]
  },
  {
   "cell_type": "code",
   "execution_count": null,
   "metadata": {},
   "outputs": [],
   "source": []
  }
 ],
 "metadata": {
  "kernelspec": {
   "display_name": "Python 3",
   "language": "python",
   "name": "python3"
  },
  "language_info": {
   "codemirror_mode": {
    "name": "ipython",
    "version": 3
   },
   "file_extension": ".py",
   "mimetype": "text/x-python",
   "name": "python",
   "nbconvert_exporter": "python",
   "pygments_lexer": "ipython3",
   "version": "3.11.5"
  }
 },
 "nbformat": 4,
 "nbformat_minor": 0
}
