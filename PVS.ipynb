{
 "cells": [
  {
   "cell_type": "code",
   "execution_count": 64,
   "metadata": {
    "ExecuteTime": {
     "end_time": "2023-10-08T08:47:55.429071Z",
     "start_time": "2023-10-08T08:47:55.416555700Z"
    },
    "collapsed": false
   },
   "outputs": [],
   "source": [
    "import numpy as np\n",
    "import pandas as pd"
   ]
  },
  {
   "cell_type": "code",
   "execution_count": 65,
   "metadata": {
    "ExecuteTime": {
     "end_time": "2023-10-08T09:15:05.892496Z",
     "start_time": "2023-10-08T09:15:05.888488100Z"
    },
    "collapsed": false
   },
   "outputs": [],
   "source": [
    "# rastrigin function\n",
    "def rastrigin(x):\n",
    "    return 10 * len(x) + sum([(xi ** 2 - 10 * np.cos(2 * np.pi * xi)) for xi in x])"
   ]
  },
  {
   "cell_type": "code",
   "execution_count": 66,
   "metadata": {
    "ExecuteTime": {
     "end_time": "2023-10-08T09:15:06.063360500Z",
     "start_time": "2023-10-08T09:15:06.052811600Z"
    },
    "collapsed": true
   },
   "outputs": [],
   "source": [
    "# wielkość populacji\n",
    "PS = 10\n",
    "\n",
    "# liczba iteracji\n",
    "NOG = 5\n",
    "\n",
    "# liczba wymiarów\n",
    "DV = 1"
   ]
  },
  {
   "cell_type": "code",
   "execution_count": 67,
   "metadata": {
    "ExecuteTime": {
     "end_time": "2023-10-08T09:15:06.221376900Z",
     "start_time": "2023-10-08T09:15:06.206134300Z"
    },
    "collapsed": false
   },
   "outputs": [],
   "source": [
    "LB = -5.12\n",
    "UB = 5.12\n",
    "X = np.random.uniform(LB, UB, (PS, DV))"
   ]
  },
  {
   "cell_type": "code",
   "execution_count": 68,
   "metadata": {
    "ExecuteTime": {
     "end_time": "2023-10-08T09:15:06.377636Z",
     "start_time": "2023-10-08T09:15:06.375127Z"
    },
    "collapsed": false
   },
   "outputs": [
    {
     "name": "stdout",
     "output_type": "stream",
     "text": [
      "r1 = 7\n"
     ]
    }
   ],
   "source": [
    "r1 = np.random.randint(0, PS)\n",
    "print(f\"r1 = {r1}\")"
   ]
  },
  {
   "attachments": {},
   "cell_type": "markdown",
   "metadata": {},
   "source": [
    "![SNOWFALL](img1.png) \n",
    "![SNOWFALL](img2.png) "
   ]
  },
  {
   "cell_type": "code",
   "execution_count": 69,
   "metadata": {
    "ExecuteTime": {
     "end_time": "2023-10-08T09:15:06.909404600Z",
     "start_time": "2023-10-08T09:15:06.892104700Z"
    },
    "collapsed": false
   },
   "outputs": [
    {
     "name": "stdout",
     "output_type": "stream",
     "text": [
      "R1 = 0.8605163656294545\n",
      "r2 = 8\n"
     ]
    }
   ],
   "source": [
    "R1 = np.random.random()\n",
    "r2 = round(R1 * (PS-1))\n",
    "print(f\"R1 = {R1}\")\n",
    "print(f\"r2 = {r2}\")"
   ]
  },
  {
   "cell_type": "code",
   "execution_count": 70,
   "metadata": {
    "ExecuteTime": {
     "end_time": "2023-10-08T09:15:07.545850200Z",
     "start_time": "2023-10-08T09:15:07.541830200Z"
    },
    "collapsed": false
   },
   "outputs": [
    {
     "name": "stdout",
     "output_type": "stream",
     "text": [
      "R2 = 0.45141119533596574\n",
      "r3 = 4\n"
     ]
    }
   ],
   "source": [
    "r3 = r2\n",
    "while r2 == r3 or r1 == r3:\n",
    "    R2 = np.random.random()\n",
    "    r3 = round(R2 * (PS - 1))\n",
    "print(f\"R2 = {R2}\")\n",
    "print(f\"r3 = {r3}\")"
   ]
  },
  {
   "cell_type": "code",
   "execution_count": 71,
   "metadata": {
    "ExecuteTime": {
     "end_time": "2023-10-08T09:15:08.279648600Z",
     "start_time": "2023-10-08T09:15:08.259547100Z"
    },
    "collapsed": false
   },
   "outputs": [
    {
     "name": "stdout",
     "output_type": "stream",
     "text": [
      "         X1        X2       X3\n",
      "0 -1.435236 -1.933112  3.18791\n"
     ]
    }
   ],
   "source": [
    "X1 = X[r1]\n",
    "X2 = X[r2]\n",
    "X3 = X[r3]\n",
    "df = pd.concat([pd.DataFrame(X1), pd.DataFrame(X2), pd.DataFrame(X3)], axis=1)\n",
    "df.columns = [\"X1\", \"X2\", \"X3\"]\n",
    "print(df)"
   ]
  },
  {
   "cell_type": "code",
   "execution_count": 72,
   "metadata": {
    "ExecuteTime": {
     "end_time": "2023-10-08T09:15:15.634807600Z",
     "start_time": "2023-10-08T09:15:15.631300600Z"
    },
    "collapsed": false
   },
   "outputs": [
    {
     "name": "stdout",
     "output_type": "stream",
     "text": [
      "r = [7 8 4]\n"
     ]
    }
   ],
   "source": [
    "r = np.array([r1, r2, r3])\n",
    "print(f\"r = {r}\")"
   ]
  },
  {
   "cell_type": "code",
   "execution_count": 73,
   "metadata": {
    "ExecuteTime": {
     "end_time": "2023-10-08T09:15:18.619799Z",
     "start_time": "2023-10-08T09:15:18.615292400Z"
    },
    "collapsed": false
   },
   "outputs": [
    {
     "name": "stdout",
     "output_type": "stream",
     "text": [
      "D = [0.7 0.8 0.4]\n"
     ]
    }
   ],
   "source": [
    "D = 1/PS * r\n",
    "print(f\"D = {D}\")"
   ]
  },
  {
   "cell_type": "code",
   "execution_count": 74,
   "metadata": {
    "ExecuteTime": {
     "end_time": "2023-10-08T09:15:22.207290200Z",
     "start_time": "2023-10-08T09:15:22.191735800Z"
    },
    "collapsed": false
   },
   "outputs": [
    {
     "name": "stdout",
     "output_type": "stream",
     "text": [
      "V = [0.19004006 0.12669338 0.38008013]\n"
     ]
    }
   ],
   "source": [
    "V = np.random.random()*(1-D)\n",
    "print(f\"V = {V}\")"
   ]
  },
  {
   "cell_type": "code",
   "execution_count": 75,
   "metadata": {
    "ExecuteTime": {
     "end_time": "2023-10-08T09:15:35.083921700Z",
     "start_time": "2023-10-08T09:15:35.067253300Z"
    },
    "collapsed": false
   },
   "outputs": [],
   "source": [
    "D1, D2, D3 = D\n",
    "V1, V2, V3 = V\n",
    "\n",
    "x = np.absolute(D3 - D1)\n",
    "y = np.absolute(D3 - D2)\n",
    "x1 = (V3 * x) / (V1 - V3)\n",
    "y1 = V2 * x * (V1 - V3)"
   ]
  },
  {
   "cell_type": "code",
   "execution_count": 76,
   "metadata": {
    "ExecuteTime": {
     "end_time": "2023-10-08T09:08:50.410465900Z",
     "start_time": "2023-10-08T09:08:50.404895700Z"
    },
    "collapsed": false
   },
   "outputs": [],
   "source": [
    "new_X1 = 0\n",
    "V_co = V1 / (V1 - V3)\n",
    "\n",
    "if V3 < V1:\n",
    "    if (y-y1) > x1:\n",
    "        new_X1 = X1 + np.random.random() * V_co *  (X1 - X3)\n",
    "        pass\n",
    "    else:\n",
    "        new_X1 = X1 + np.random.random() *  (X1 - X2)\n",
    "        pass\n",
    "else:\n",
    "    new_X1 = X1 + np.random.random() *  (X3 - X1)\n",
    "    pass\n",
    "\n"
   ]
  },
  {
   "cell_type": "code",
   "execution_count": 77,
   "metadata": {},
   "outputs": [
    {
     "name": "stdout",
     "output_type": "stream",
     "text": [
      "[[-3.09787952]\n",
      " [ 0.8575633 ]\n",
      " [-3.56948016]\n",
      " [ 3.18790956]\n",
      " [ 0.81461502]\n",
      " [-3.43840926]\n",
      " [-1.43523629]\n",
      " [-1.93311245]\n",
      " [-4.22336194]\n",
      " [ 2.35212013]]\n"
     ]
    }
   ],
   "source": [
    "\n",
    "\n",
    "if rastrigin(new_X1) < rastrigin(X1): \n",
    "    X1 = new_X1\n",
    "    \n",
    "for k in range(PS - 1): \n",
    "    X[k] = X[k+1]\n",
    "    i = np.random.randint(0, DV)\n",
    "    X[k+1][i] = LB + np.random.random() * (UB - LB)\n",
    "    \n",
    "print(X)"
   ]
  },
  {
   "cell_type": "code",
   "execution_count": 80,
   "metadata": {},
   "outputs": [
    {
     "name": "stdout",
     "output_type": "stream",
     "text": [
      "The autoreload extension is already loaded. To reload it, use:\n",
      "  %reload_ext autoreload\n"
     ]
    }
   ],
   "source": [
    "\n",
    "%load_ext autoreload\n",
    "%autoreload 2\n",
    "\n",
    "from PVS import PVS\n",
    "import matplotlib.pyplot as plt\n",
    "\n",
    "from funcs import *\n",
    "\n",
    "\n",
    "pvc = PVS()\n",
    "\n",
    "def get_stats(solutions): \n",
    "    print(np.mean(solutions), np.std(solutions))\n"
   ]
  },
  {
   "attachments": {},
   "cell_type": "markdown",
   "metadata": {},
   "source": [
    "# rastrigin function\n",
    "100 - samples \n",
    "20 - generations"
   ]
  },
  {
   "cell_type": "code",
   "execution_count": 113,
   "metadata": {},
   "outputs": [
    {
     "name": "stdout",
     "output_type": "stream",
     "text": [
      "[(array([-0.06237264, -0.97513715]), 1.8347003030957438), (array([1.0103145 , 0.01030964]), 1.0628078340761604), (array([-1.00704352,  0.02781978]), 1.1770829254083033), (array([0.03262463, 1.08119842]), 2.6528741265975313), (array([1.00172398, 0.91159367]), 3.3385313135890726), (array([-1.03608427,  0.02134206]), 1.4196204591089128), (array([1.04824165, 0.95010301]), 2.9448188059750997), (array([-0.01877773, -1.03505423]), 1.3827864799186784), (array([0.96642971, 0.09598295]), 2.9288958968946197), (array([ 0.05083413, -0.02475444]), 0.6296725129877316), (array([ 0.06711095, -0.9848906 ]), 1.8954782045280716), (array([ 0.01842435, -0.08522211]), 1.4742255706910115), (array([ 0.99209847, -0.05436874]), 1.5773676720809284), (array([-1.1276235 ,  1.02742226]), 5.521645885165279), (array([-0.98424176,  0.04095636]), 1.3486728974671145), (array([-0.0663633 , -1.03156165]), 2.121318830092168), (array([-1.0075823 ,  0.05913675]), 1.7124705644024267), (array([0.08152884, 0.06246582]), 2.0545458939801904), (array([ 0.97694964, -2.02453422]), 5.276445091643396), (array([0.98663034, 0.05947128]), 1.702296206006789), (array([ 0.96507792, -0.02534636]), 1.2983277293359663), (array([0.9949641 , 0.03597872]), 1.2506850297567524), (array([-0.06800337, -0.02846683]), 1.0639956762256766), (array([-1.00501741,  1.11121741]), 4.593683377977319), (array([-0.99724158, -0.00332003]), 0.9981793814719104), (array([ 0.94591168, -0.05663523]), 2.0963912339570854), (array([0.11546049, 1.02036796]), 3.6543136814347044), (array([ 0.03636287, -1.93590248]), 4.808991812186299), (array([0.01619875, 0.93780348]), 1.6854130465561), (array([1.12153047, 0.99274859]), 5.030235401678375), (array([-0.89651705, -0.06361354]), 3.6363826330228726), (array([0.07850988, 1.07733502]), 3.516525219787102), (array([-1.01782457,  2.01087745]), 5.165590027308163), (array([-0.9299159 , -0.00094315]), 1.8189007745158534), (array([-1.00355617,  1.89611398]), 6.66061368450756), (array([0.91680602, 0.99024344]), 3.1752707014739094), (array([-0.92438124, -0.07017295]), 2.9234186199411525), (array([ 9.04726479e-05, -4.86052559e-02]), 0.46508396557805654), (array([ 1.00061139, -0.98209078]), 2.029044038143809), (array([-0.02063857, -0.08320137]), 1.4269131629522604), (array([0.08275895, 1.08722514]), 3.975252704152677), (array([-1.07611462, -1.059851  ]), 4.102047300929858), (array([ 0.92015663, -0.00520989]), 2.084269014977089), (array([-0.02269587, -0.04059356]), 0.4271783167447012), (array([-0.96022879, -1.03110248]), 2.4861582048420416), (array([1.08002408, 0.05597378]), 3.019340931109717), (array([-0.00294285,  1.92075324]), 4.905242357557395), (array([-0.05251212, -1.02445975]), 1.7095316873808173), (array([-1.00348271, -0.06197809]), 1.7619181239341692), (array([-0.03747923, -0.98135521]), 1.3089995482233903), (array([ 0.03704367, -0.0144184 ]), 0.3122353296793072), (array([1.03361815, 0.0249774 ]), 1.4141452066220808), (array([ 0.06415135, -0.90859988]), 3.2352613348561157), (array([ 1.08206102, -0.93344499]), 4.203922027735796), (array([-0.87400783,  0.03370836]), 3.961626589342501), (array([ 1.01884199, -1.01121979]), 2.155439062184115), (array([-0.12760334,  0.0005781 ]), 3.0618854575693604), (array([-0.08779996, -0.02950379]), 1.6633735042053814), (array([-0.0649391 ,  0.12612698]), 3.8202392849565747), (array([ 1.12326592, -0.06010961]), 4.82242225256952), (array([-0.00799261,  0.9785136 ]), 1.0611506376626565), (array([-1.02774297, -0.00189686]), 1.2085124138065986), (array([-0.02174387,  0.03047362]), 0.27732969585071743), (array([0.97521179, 0.12488643]), 4.011566300861528), (array([-0.94204148, -1.94166349]), 5.977548477997317), (array([ 1.03836398, -0.01806764]), 1.432010362702826), (array([0.10114083, 0.02978052]), 2.13783942276293), (array([5.93687232e-04, 1.04413246e+00]), 1.4722809218342086), (array([1.01486589, 0.04547247]), 1.4809989682167206), (array([ 0.97382119, -0.04937834]), 1.5631771850547338), (array([ 0.95743577, -0.98237941]), 2.298468868081187), (array([-0.03189645,  0.05297141]), 0.7527576517994845), (array([ 0.93999031, -0.96687073]), 2.736746300987825), (array([-0.94810491, -1.06987653]), 3.518871228534554), (array([-0.10880092,  0.05214379]), 2.793539995871882), (array([0.08887824, 0.06763071]), 2.4209875185378635), (array([1.01453674, 0.97280653]), 2.1629342811482672), (array([0.02051834, 0.00295513]), 0.0851409751661869), (array([-0.00268966,  0.06915278]), 0.9354097933386036), (array([0.95295977, 1.0028628 ]), 2.349099291511987), (array([-0.93772988,  0.05912928]), 2.3207551506199167), (array([0.09764803, 0.03107385]), 2.0243492378869483), (array([ 0.06683017, -0.99589976]), 1.8683296287683575), (array([0.0993799 , 0.91995691]), 3.981425331736748), (array([1.03543981, 0.96046387]), 2.54848561004896), (array([2.01527583, 0.04140781]), 4.445622447244556), (array([ 1.01346655, -0.92178788]), 3.09595155941971), (array([-0.92533414,  0.97216535]), 3.0343154516512456), (array([-1.01820095, -1.02910428]), 2.3278459209292137), (array([ 1.05647226, -1.0186658 ]), 2.8454379603315942), (array([-0.0429764 ,  0.00547081]), 0.37015182607141384), (array([-0.01583126,  1.03446509]), 1.3533559549680234), (array([0.02959815, 0.03636565]), 0.4345356585397653), (array([-0.06249792,  0.9756721 ]), 1.8335953933250835), (array([-0.09273814,  1.02080564]), 2.786119747972432), (array([-0.06382552,  0.08703061]), 2.263270076403632), (array([0.97203514, 0.01166909]), 1.1258253035684334), (array([-1.06439617,  0.01134107]), 1.9658978109191523), (array([0.01891033, 0.00723723]), 0.08125161584920448), (array([ 0.99016867, -0.90282981]), 3.6212135006927433)]\n"
     ]
    },
    {
     "data": {
      "image/png": "[encoded data removed]",
      "text/plain": [
       "<Figure size 640x480 with 1 Axes>"
      ]
     },
     "metadata": {},
     "output_type": "display_data"
    },
    {
     "data": {
      "text/plain": [
       "<matplotlib.collections.PathCollection at 0x144b614d0>"
      ]
     },
     "execution_count": 113,
     "metadata": {},
     "output_type": "execute_result"
    },
    {
     "data": {
      "image/png": "[encoded data removed]",
      "text/plain": [
       "<Figure size 640x480 with 1 Axes>"
      ]
     },
     "metadata": {},
     "output_type": "display_data"
    }
   ],
   "source": [
    "\n",
    "sol = [pvc.solve(rastrigin, 10, 20, 2, -5.12, 5.12) for i in range(100)]\n",
    "\n",
    "print(sol)\n",
    "# solutions\n",
    "plt.scatter([x[0][0] for x in sol], [x[0][1] for x in sol])\n",
    "plt.show()\n",
    "\n",
    "# solutions values\n",
    "plt.scatter([x[1] for x in sol], np.zeros(len(sol)))\n"
   ]
  },
  {
   "cell_type": "code",
   "execution_count": 112,
   "metadata": {},
   "outputs": [
    {
     "name": "stdout",
     "output_type": "stream",
     "text": [
      "[(array([0.74614895, 0.55530196]), 0.06464665117280313), (array([0.58834204, 0.47227033]), 1.7601880413944184), (array([1.13464712, 1.36361236]), 0.5985951863254207), (array([0.94314846, 0.94650183]), 0.3278222028254407), (array([-0.3766153 ,  0.16646047]), 1.9556909655904544), (array([2.52633629, 6.33275374]), 2.575930129341251), (array([0.70616795, 0.47544224]), 0.14030491384371233), (array([0.75131407, 0.52356556]), 0.2291851251171092), (array([0.55258142, 0.35090323]), 0.40772741060548146), (array([1.37343506, 1.89003403]), 0.14083027643842372), (array([-0.18051457,  0.05800298]), 1.45821944837139), (array([0.71214668, 0.4969583 ]), 0.09325250161415564), (array([0.75334126, 0.54391644]), 0.11656776228158465), (array([1.87296428, 3.63257209]), 2.31400710905039), (array([1.91321776, 3.68637131]), 0.9014060752287959), (array([0.81557545, 0.66497528]), 0.034015950904732174), (array([0.34401031, 0.11639588]), 0.4307016403828221), (array([0.5510596 , 0.35043885]), 0.4203110049463817), (array([ 0.16483282, -0.00276594]), 0.7871194251268304), (array([-0.91422475,  0.7400228 ]), 4.581715573719051), (array([0.97460535, 1.00265234]), 0.27939470446396736), (array([-0.20270986,  0.12524711]), 2.1547313113660325), (array([0.54117573, 0.26971526]), 0.2641393285213239), (array([2.55305334, 6.37275211]), 4.524033680056539), (array([1.23162946, 1.48523587]), 0.15398439041484166), (array([0.4990391 , 0.24296772]), 0.2546491124925066), (array([-0.34762194,  0.04170029]), 2.44241033800003), (array([1.73899314, 3.15495498]), 2.2584880965972927), (array([0.68945354, 0.49318958]), 0.12827780925439447), (array([1.41066502, 2.10121275]), 1.4060119548944494), (array([-0.53925762,  0.28422408]), 2.3736367072913516), (array([0.9496286 , 0.99397282]), 0.8522219711133406), (array([-0.48404447,  0.25047368]), 2.2285498637724332), (array([-1.76530273,  3.0973305 ]), 7.682859632367421), (array([1.22297374, 1.3228213 ]), 3.0372035851971098), (array([0.60878436, 0.31568709]), 0.454794528153725), (array([-0.67552683,  0.42505555]), 2.905239972970985), (array([-0.06473241, -0.04103657]), 1.3382019262263691), (array([0.46070108, 0.19062271]), 0.33759775192917474), (array([-3.34619499, 11.03513216]), 21.51020815423922), (array([1.5132795 , 2.28907334]), 0.2635444879207976), (array([2.19996399, 4.8043307 ]), 1.5660156241818353), (array([0.06529374, 0.06598603]), 1.2546456772099717), (array([1.01380099, 0.95498166]), 0.5303316118832404), (array([2.50672156, 6.395178  ]), 3.5139934045479384), (array([1.91235736, 3.65356774]), 0.8336512012680269), (array([1.04274082, 1.07434719]), 0.01862611907601359), (array([0.67883381, 0.38018393]), 0.7532902570063037), (array([0.75193121, 0.51445737]), 0.3210588569724375), (array([0.49326949, 0.23630827]), 0.2616849466183977), (array([1.68267624, 2.81784728]), 0.48441264759194264), (array([ 0.20968485, -0.00484723]), 0.8628881533596753), (array([1.72798738, 3.03128991]), 0.7356236057116236), (array([2.97912913, 8.91791815]), 4.099347428133117), (array([1.56101891, 2.46914463]), 0.41948882205422494), (array([1.25280662, 1.56900048]), 0.0639386410967083), (array([0.48960373, 0.25041693]), 0.27196430195197296), (array([0.93450764, 0.87734854]), 0.005924645057842838), (array([1.57598188, 2.53492757]), 0.5939881945453797), (array([0.78858904, 0.58731565]), 0.1641134075602086), (array([1.25930965, 1.54174674]), 0.26184653154772436), (array([0.42363393, 0.02084138]), 2.848365632464141), (array([0.69991406, 0.42771446]), 0.47650318621039695), (array([-0.93999403,  0.91370915]), 3.854300561462137), (array([-0.10061616,  0.08458514]), 1.765807875074387), (array([0.33628546, 0.08450464]), 0.5222173326366142), (array([1.9088813 , 3.67512774]), 0.9240337058309561), (array([0.3723149 , 0.17991161]), 0.5645016906144786), (array([0.4566413 , 0.32776964]), 1.7172557414302727), (array([1.6951518, 2.9331021]), 0.8380048748204226), (array([0.31702961, 0.11135781]), 0.47822088776415994), (array([-0.09216946, -0.06679127]), 1.7596395063374715), (array([-0.15628688, -0.02988138]), 1.631924032468288), (array([1.28921535, 1.53636038]), 1.6640923590960615), (array([-0.54741584,  0.32548466]), 2.461165895366368), (array([-0.32659456,  0.12670703]), 1.8000254219330065), (array([-1.61644394,  2.67736321]), 7.261445259558773), (array([0.63279126, 0.40174556]), 0.13501670653767744), (array([0.39707264, 0.07483718]), 1.0495940864255504), (array([1.83495958, 3.42700177]), 1.0562593679525716), (array([0.34055739, 0.03861788]), 1.033344038656809), (array([-0.02135163,  0.07210846]), 1.5565681973389622), (array([1.30781595, 1.74936301]), 0.2466982450831114), (array([0.74457574, 0.64094383]), 0.8143455427899512), (array([2.00203255, 4.12362624]), 2.3379074233614943), (array([-0.66656189,  0.40962909]), 2.897668732292383), (array([1.0095336 , 1.02011674]), 0.0001827910023274727), (array([0.93243911, 0.86467265]), 0.00683979851916776), (array([1.17837688, 1.26852418]), 1.472968232532493), (array([0.41474301, 0.26750423]), 1.2544068493045866), (array([0.14480131, 0.06919119]), 0.9639179580493924), (array([-0.4917411 ,  0.22497785]), 2.2536212770376296), (array([0.8194121 , 0.59383337]), 0.6348317164437872), (array([1.01099719, 1.02805193]), 0.003645288750699842), (array([0.97351089, 0.89391454]), 0.290241488139087), (array([2.51813387, 6.36376427]), 2.356559856571716), (array([0.89844391, 0.78835034]), 0.04585011246802784), (array([0.39743275, 0.12271546]), 0.48725423279121083), (array([0.1505543 , 0.00533611]), 0.7515925619271131), (array([0.64768978, 0.32711224]), 0.9777102120889498)]\n"
     ]
    },
    {
     "data": {
      "image/png": "[encoded data removed]",
      "text/plain": [
       "<Figure size 640x480 with 1 Axes>"
      ]
     },
     "metadata": {},
     "output_type": "display_data"
    },
    {
     "data": {
      "text/plain": [
       "<matplotlib.collections.PathCollection at 0x144a3f250>"
      ]
     },
     "execution_count": 112,
     "metadata": {},
     "output_type": "execute_result"
    },
    {
     "data": {
      "image/png": "[encoded data removed]",
      "text/plain": [
       "<Figure size 640x480 with 1 Axes>"
      ]
     },
     "metadata": {},
     "output_type": "display_data"
    }
   ],
   "source": [
    "\n",
    "sol = [pvc.solve(rosenbrock, 10, 20, 2, -5.12, 5.12) for i in range(100)]\n",
    "\n",
    "print(sol)\n",
    "# solutions\n",
    "plt.scatter([x[0][0] for x in sol], [x[0][1] for x in sol])\n",
    "plt.show()\n",
    "\n",
    "# solutions values\n",
    "plt.scatter([x[1] for x in sol], np.zeros(len(sol)))"
   ]
  },
  {
   "cell_type": "code",
   "execution_count": null,
   "metadata": {},
   "outputs": [],
   "source": []
  }
 ],
 "metadata": {
  "kernelspec": {
   "display_name": "Python 3",
   "language": "python",
   "name": "python3"
  },
  "language_info": {
   "codemirror_mode": {
    "name": "ipython",
    "version": 3
   },
   "file_extension": ".py",
   "mimetype": "text/x-python",
   "name": "python",
   "nbconvert_exporter": "python",
   "pygments_lexer": "ipython3",
   "version": "3.11.5"
  }
 },
 "nbformat": 4,
 "nbformat_minor": 0
}
