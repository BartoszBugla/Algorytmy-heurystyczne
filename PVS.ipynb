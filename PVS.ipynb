{
 "cells": [
  {
   "cell_type": "code",
   "execution_count": 31,
   "metadata": {
    "ExecuteTime": {
     "end_time": "2023-10-08T08:47:55.429071Z",
     "start_time": "2023-10-08T08:47:55.416555700Z"
    },
    "collapsed": false
   },
   "outputs": [],
   "source": [
    "import numpy as np\n",
    "import pandas as pd"
   ]
  },
  {
   "cell_type": "code",
   "execution_count": 32,
   "metadata": {
    "ExecuteTime": {
     "end_time": "2023-10-08T09:15:05.892496Z",
     "start_time": "2023-10-08T09:15:05.888488100Z"
    },
    "collapsed": false
   },
   "outputs": [],
   "source": [
    "# rastrigin function\n",
    "def rastrigin(x):\n",
    "    return 10 * len(x) + sum([(xi ** 2 - 10 * np.cos(2 * np.pi * xi)) for xi in x])"
   ]
  },
  {
   "cell_type": "code",
   "execution_count": 33,
   "metadata": {
    "ExecuteTime": {
     "end_time": "2023-10-08T09:15:06.063360500Z",
     "start_time": "2023-10-08T09:15:06.052811600Z"
    },
    "collapsed": true
   },
   "outputs": [],
   "source": [
    "# wielkość populacji\n",
    "PS = 10\n",
    "\n",
    "# liczba iteracji\n",
    "NOG = 5\n",
    "\n",
    "# liczba wymiarów\n",
    "DV = 1"
   ]
  },
  {
   "cell_type": "code",
   "execution_count": 34,
   "metadata": {
    "ExecuteTime": {
     "end_time": "2023-10-08T09:15:06.221376900Z",
     "start_time": "2023-10-08T09:15:06.206134300Z"
    },
    "collapsed": false
   },
   "outputs": [],
   "source": [
    "LB = -5.12\n",
    "UB = 5.12\n",
    "X = np.random.uniform(LB, UB, (PS, DV))"
   ]
  },
  {
   "cell_type": "code",
   "execution_count": 35,
   "metadata": {
    "ExecuteTime": {
     "end_time": "2023-10-08T09:15:06.377636Z",
     "start_time": "2023-10-08T09:15:06.375127Z"
    },
    "collapsed": false
   },
   "outputs": [
    {
     "name": "stdout",
     "output_type": "stream",
     "text": [
      "r1 = 4\n"
     ]
    }
   ],
   "source": [
    "r1 = np.random.randint(0, PS)\n",
    "print(f\"r1 = {r1}\")"
   ]
  },
  {
   "attachments": {},
   "cell_type": "markdown",
   "metadata": {},
   "source": [
    "![SNOWFALL](img1.png) \n",
    "![SNOWFALL](img2.png) "
   ]
  },
  {
   "cell_type": "code",
   "execution_count": 36,
   "metadata": {
    "ExecuteTime": {
     "end_time": "2023-10-08T09:15:06.909404600Z",
     "start_time": "2023-10-08T09:15:06.892104700Z"
    },
    "collapsed": false
   },
   "outputs": [
    {
     "name": "stdout",
     "output_type": "stream",
     "text": [
      "R1 = 0.823594864111099\n",
      "r2 = 7\n"
     ]
    }
   ],
   "source": [
    "R1 = np.random.random()\n",
    "r2 = round(R1 * (PS-1))\n",
    "print(f\"R1 = {R1}\")\n",
    "print(f\"r2 = {r2}\")"
   ]
  },
  {
   "cell_type": "code",
   "execution_count": 37,
   "metadata": {
    "ExecuteTime": {
     "end_time": "2023-10-08T09:15:07.545850200Z",
     "start_time": "2023-10-08T09:15:07.541830200Z"
    },
    "collapsed": false
   },
   "outputs": [
    {
     "name": "stdout",
     "output_type": "stream",
     "text": [
      "R2 = 0.9066177298860333\n",
      "r3 = 8\n"
     ]
    }
   ],
   "source": [
    "r3 = r2\n",
    "while r2 == r3 or r1 == r3:\n",
    "    R2 = np.random.random()\n",
    "    r3 = round(R2 * (PS - 1))\n",
    "print(f\"R2 = {R2}\")\n",
    "print(f\"r3 = {r3}\")"
   ]
  },
  {
   "cell_type": "code",
   "execution_count": 38,
   "metadata": {
    "ExecuteTime": {
     "end_time": "2023-10-08T09:15:08.279648600Z",
     "start_time": "2023-10-08T09:15:08.259547100Z"
    },
    "collapsed": false
   },
   "outputs": [
    {
     "name": "stdout",
     "output_type": "stream",
     "text": [
      "         X1        X2        X3\n",
      "0  1.138803  1.266823 -0.894632\n"
     ]
    }
   ],
   "source": [
    "X1 = X[r1]\n",
    "X2 = X[r2]\n",
    "X3 = X[r3]\n",
    "df = pd.concat([pd.DataFrame(X1), pd.DataFrame(X2), pd.DataFrame(X3)], axis=1)\n",
    "df.columns = [\"X1\", \"X2\", \"X3\"]\n",
    "print(df)"
   ]
  },
  {
   "cell_type": "code",
   "execution_count": 39,
   "metadata": {
    "ExecuteTime": {
     "end_time": "2023-10-08T09:15:15.634807600Z",
     "start_time": "2023-10-08T09:15:15.631300600Z"
    },
    "collapsed": false
   },
   "outputs": [
    {
     "name": "stdout",
     "output_type": "stream",
     "text": [
      "r = [4 7 8]\n"
     ]
    }
   ],
   "source": [
    "r = np.array([r1, r2, r3])\n",
    "print(f\"r = {r}\")"
   ]
  },
  {
   "cell_type": "code",
   "execution_count": 40,
   "metadata": {
    "ExecuteTime": {
     "end_time": "2023-10-08T09:15:18.619799Z",
     "start_time": "2023-10-08T09:15:18.615292400Z"
    },
    "collapsed": false
   },
   "outputs": [
    {
     "name": "stdout",
     "output_type": "stream",
     "text": [
      "D = [0.4 0.7 0.8]\n"
     ]
    }
   ],
   "source": [
    "D = 1/PS * r\n",
    "print(f\"D = {D}\")"
   ]
  },
  {
   "cell_type": "code",
   "execution_count": 41,
   "metadata": {
    "ExecuteTime": {
     "end_time": "2023-10-08T09:15:22.207290200Z",
     "start_time": "2023-10-08T09:15:22.191735800Z"
    },
    "collapsed": false
   },
   "outputs": [
    {
     "name": "stdout",
     "output_type": "stream",
     "text": [
      "V = [0.16971701 0.0848585  0.05657234]\n"
     ]
    }
   ],
   "source": [
    "V = np.random.random()*(1-D)\n",
    "print(f\"V = {V}\")"
   ]
  },
  {
   "cell_type": "code",
   "execution_count": 42,
   "metadata": {
    "ExecuteTime": {
     "end_time": "2023-10-08T09:15:35.083921700Z",
     "start_time": "2023-10-08T09:15:35.067253300Z"
    },
    "collapsed": false
   },
   "outputs": [],
   "source": [
    "D1, D2, D3 = D\n",
    "V1, V2, V3 = V\n",
    "\n",
    "x = np.absolute(D3 - D1)\n",
    "y = np.absolute(D3 - D2)\n",
    "x1 = (V3 * x) / (V1 - V3)\n",
    "y1 = V2 * x * (V1 - V3)"
   ]
  },
  {
   "cell_type": "code",
   "execution_count": 43,
   "metadata": {
    "ExecuteTime": {
     "end_time": "2023-10-08T09:08:50.410465900Z",
     "start_time": "2023-10-08T09:08:50.404895700Z"
    },
    "collapsed": false
   },
   "outputs": [],
   "source": [
    "new_X1 = 0\n",
    "V_co = V1 / (V1 - V3)\n",
    "\n",
    "if V3 < V1:\n",
    "    if (y-y1) > x1:\n",
    "        new_X1 = X1 + np.random.random() * V_co *  (X1 - X3)\n",
    "        pass\n",
    "    else:\n",
    "        new_X1 = X1 + np.random.random() *  (X1 - X2)\n",
    "        pass\n",
    "else:\n",
    "    new_X1 = X1 + np.random.random() *  (X3 - X1)\n",
    "    pass\n",
    "\n"
   ]
  },
  {
   "cell_type": "code",
   "execution_count": 45,
   "metadata": {},
   "outputs": [
    {
     "name": "stdout",
     "output_type": "stream",
     "text": [
      "[[-4.63848058]\n",
      " [-2.56856193]\n",
      " [-1.15898079]\n",
      " [ 1.13880332]\n",
      " [ 3.58132695]\n",
      " [ 3.37351454]\n",
      " [ 1.2668228 ]\n",
      " [-0.89463167]\n",
      " [-2.57780336]\n",
      " [-4.63226909]]\n"
     ]
    }
   ],
   "source": [
    "\n",
    "\n",
    "if rastrigin(new_X1) < rastrigin(X1): \n",
    "    X1 = new_X1\n",
    "    \n",
    "for k in range(PS - 1): \n",
    "    X[k] = X[k+1]\n",
    "    i = np.random.randint(0, DV)\n",
    "    X[k+1][i] = LB + np.random.random() * (UB - LB)\n",
    "    \n",
    "print(X)"
   ]
  },
  {
   "cell_type": "code",
   "execution_count": null,
   "metadata": {},
   "outputs": [],
   "source": []
  }
 ],
 "metadata": {
  "kernelspec": {
   "display_name": "Python 3",
   "language": "python",
   "name": "python3"
  },
  "language_info": {
   "codemirror_mode": {
    "name": "ipython",
    "version": 3
   },
   "file_extension": ".py",
   "mimetype": "text/x-python",
   "name": "python",
   "nbconvert_exporter": "python",
   "pygments_lexer": "ipython3",
   "version": "3.11.5"
  }
 },
 "nbformat": 4,
 "nbformat_minor": 0
}
