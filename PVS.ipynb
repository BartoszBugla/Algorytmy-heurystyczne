{
 "cells": [
  {
   "attachments": {},
   "cell_type": "markdown",
   "metadata": {},
   "source": [
    "# Testy Funkcji"
   ]
  },
  {
   "cell_type": "code",
   "execution_count": 1,
   "metadata": {
    "ExecuteTime": {
     "end_time": "2023-10-28T09:29:11.838187500Z",
     "start_time": "2023-10-28T09:29:11.435539500Z"
    }
   },
   "outputs": [],
   "source": [
    "\n",
    "%load_ext autoreload\n",
    "%autoreload 2\n",
    "\n",
    "from PVS import PVS\n",
    "import matplotlib.pyplot as plt\n",
    "from results import Tester\n",
    "from funcs import *\n",
    "\n",
    "\n",
    "pvs = PVS()"
   ]
  },
  {
   "cell_type": "code",
   "execution_count": 2,
   "metadata": {},
   "outputs": [],
   "source": [
    "class Solver:\n",
    "    solutions: Tester\n",
    "\n",
    "    def __init__(self, fun, ps, gen, dv, lb, ub, samples, lb_y=None, ub_y=None) -> None:\n",
    "        self.fun = fun\n",
    "        self.DV = dv\n",
    "        self.PS = ps\n",
    "        self.GEN = gen\n",
    "        self.DV = dv\n",
    "        self.LB = lb\n",
    "        self.UB = ub\n",
    "        self.samples = samples\n",
    "        self.fun_name = fun.__name__\n",
    "\n",
    "        self.ub_y = ub_y\n",
    "        self.lb_y = lb_y\n",
    "\n",
    "    def __solver(self):\n",
    "        return pvs.solve(\n",
    "            self.fun, self.PS, self.GEN, self.DV, self.LB, self.UB, self.lb_y, self.ub_y\n",
    "        )\n",
    "\n",
    "    def generate_row(self):\n",
    "        self.solutions = Tester(self.__solver, self.samples)\n",
    "\n",
    "        return [\n",
    "            \"PVS\",\n",
    "            self.fun_name,\n",
    "            self.DV,\n",
    "            self.GEN,\n",
    "            self.PS,\n",
    "            np.round(self.solutions.best_solution()[0], 3),\n",
    "            list(np.round(self.solutions.get_x_std(), 3)),\n",
    "            \"{:.2e}\".format(self.solutions.best_solution()[1]),\n",
    "            np.round(self.solutions.get_y_std(), 3),\n",
    "            self.samples,\n",
    "            list(np.round(self.solutions.get_variation_x(), 3)),\n",
    "            np.round(self.solutions.get_variation_y(), 3),\n",
    "            \"{:.2e}\".format(self.solutions.worst_solution()),\n",
    "            self.PS * self.GEN,\n",
    "        ]"
   ]
  },
  {
   "cell_type": "code",
   "execution_count": 7,
   "metadata": {},
   "outputs": [],
   "source": [
    "import pandas as pd\n",
    "\n",
    "samples = 20\n",
    "df = pd.DataFrame(\n",
    "    [\n",
    "        # rastrigin\n",
    "        Solver(Rastrigin, 20, 100, 2, -5.12, 5.12, samples).generate_row(),\n",
    "        Solver(Rastrigin, 50, 250, 5, -5.12, 5.12, samples).generate_row(),\n",
    "        Solver(Rastrigin, 100, 500, 10, -5.12, 5.12, samples).generate_row(),\n",
    "        \n",
    "        Solver(Rosenbrock, 20, 100, 2, -20, 20, samples).generate_row(),\n",
    "        Solver(Rosenbrock, 50, 250, 5, -20, 20, samples).generate_row(),\n",
    "        Solver(Rosenbrock, 100, 500, 10, -20, 20, samples).generate_row(),\n",
    "        \n",
    "        Solver(Sphere, 20, 100, 2, -20,20, samples).generate_row(),\n",
    "        Solver(Sphere, 50, 250, 5, -20, 20, samples).generate_row(),\n",
    "        Solver(Sphere, 100, 500, 10, -20, 20, samples).generate_row(),\n",
    "        \n",
    "        Solver(Beale, 20, 50, 2, -4.5, 4.5, samples).generate_row(),\n",
    "        Solver(Beale, 40, 100, 2, -4.5, 4.5, samples).generate_row(),\n",
    "        \n",
    "        Solver(Bukin, 20, 100, 2, -15, -5, samples, -3,3).generate_row(),\n",
    "        Solver(Bukin, 40, 200, 2, -15, -5, samples, -3, 3).generate_row(),\n",
    "        \n",
    "        Solver(Himmelblau, 20, 50, 2, -5, 5, samples).generate_row(),\n",
    "        Solver(Himmelblau, 40, 100, 2, -5, 5, samples).generate_row(),\n",
    "    ],\n",
    "    columns=[\n",
    "        \"Nazwa Alogrytmu\",\n",
    "        \"Funkcja testowa\",\n",
    "        \"Ilość szukanych parametrów\",\n",
    "        \"Liczba Iteracji\",\n",
    "        \"Rozmiar populacji\",\n",
    "        \"Znalezione minimum\",\n",
    "        \"Odchylenie standardowe poszukiwanych parametrów\",\n",
    "        \"Wartosć funkcji celu\",\n",
    "        \"Odchylenie standardowe wartośći funkcji celu\",\n",
    "        \"Ilość próbek\",\n",
    "        \"Wskaźnik zmiennośći parametrów\",\n",
    "        \"Wskaźnik zmienności funkcji\",\n",
    "        \"Najgorszy wynik\",\n",
    "        \"Ilosć przeliczeń funkcji\",\n",
    "    ],\n",
    ")\n",
    "\n",
    "df.to_excel(\"wyniki.xlsx\")"
   ]
  },
  {
   "cell_type": "code",
   "execution_count": null,
   "metadata": {},
   "outputs": [],
   "source": []
  }
 ],
 "metadata": {
  "kernelspec": {
   "display_name": "Python 3",
   "language": "python",
   "name": "python3"
  },
  "language_info": {
   "codemirror_mode": {
    "name": "ipython",
    "version": 3
   },
   "file_extension": ".py",
   "mimetype": "text/x-python",
   "name": "python",
   "nbconvert_exporter": "python",
   "pygments_lexer": "ipython3",
   "version": "3.11.5"
  }
 },
 "nbformat": 4,
 "nbformat_minor": 0
}
