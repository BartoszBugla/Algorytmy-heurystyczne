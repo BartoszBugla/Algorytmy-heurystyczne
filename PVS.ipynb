{
 "cells": [
  {
   "cell_type": "code",
   "execution_count": 139,
   "outputs": [],
   "source": [
    "import numpy as np\n",
    "import pandas as pd"
   ],
   "metadata": {
    "collapsed": false,
    "ExecuteTime": {
     "end_time": "2023-10-08T08:47:55.429071Z",
     "start_time": "2023-10-08T08:47:55.416555700Z"
    }
   }
  },
  {
   "cell_type": "code",
   "execution_count": 168,
   "outputs": [],
   "source": [
    "# rastrigin function\n",
    "def rastrigin(x):\n",
    "    return 10 * len(x) + sum([(xi ** 2 - 10 * np.cos(2 * np.pi * xi)) for xi in x])"
   ],
   "metadata": {
    "collapsed": false,
    "ExecuteTime": {
     "end_time": "2023-10-08T09:15:05.892496Z",
     "start_time": "2023-10-08T09:15:05.888488100Z"
    }
   }
  },
  {
   "cell_type": "code",
   "execution_count": 169,
   "metadata": {
    "collapsed": true,
    "ExecuteTime": {
     "end_time": "2023-10-08T09:15:06.063360500Z",
     "start_time": "2023-10-08T09:15:06.052811600Z"
    }
   },
   "outputs": [],
   "source": [
    "# wielkość populacji\n",
    "PS = 10\n",
    "\n",
    "# liczba iteracji\n",
    "NOG = 5\n",
    "\n",
    "# liczba wymiarów\n",
    "DV = 1"
   ]
  },
  {
   "cell_type": "code",
   "execution_count": 170,
   "outputs": [],
   "source": [
    "LB = -5.12\n",
    "UB = 5.12\n",
    "X = np.random.uniform(LB, UB, (PS, DV))"
   ],
   "metadata": {
    "collapsed": false,
    "ExecuteTime": {
     "end_time": "2023-10-08T09:15:06.221376900Z",
     "start_time": "2023-10-08T09:15:06.206134300Z"
    }
   }
  },
  {
   "cell_type": "code",
   "execution_count": 171,
   "outputs": [
    {
     "name": "stdout",
     "output_type": "stream",
     "text": [
      "r1 = 8\n"
     ]
    }
   ],
   "source": [
    "r1 = np.random.randint(0, PS)\n",
    "print(f\"r1 = {r1}\")"
   ],
   "metadata": {
    "collapsed": false,
    "ExecuteTime": {
     "end_time": "2023-10-08T09:15:06.377636Z",
     "start_time": "2023-10-08T09:15:06.375127Z"
    }
   }
  },
  {
   "cell_type": "code",
   "execution_count": 172,
   "outputs": [
    {
     "name": "stdout",
     "output_type": "stream",
     "text": [
      "R1 = 0.7580185797188986\n",
      "r2 = 7\n"
     ]
    }
   ],
   "source": [
    "R1 = np.random.random()\n",
    "r2 = round(R1 * (PS-1))\n",
    "print(f\"R1 = {R1}\")\n",
    "print(f\"r2 = {r2}\")"
   ],
   "metadata": {
    "collapsed": false,
    "ExecuteTime": {
     "end_time": "2023-10-08T09:15:06.909404600Z",
     "start_time": "2023-10-08T09:15:06.892104700Z"
    }
   }
  },
  {
   "cell_type": "code",
   "execution_count": 173,
   "outputs": [
    {
     "name": "stdout",
     "output_type": "stream",
     "text": [
      "R2 = 0.4764979154642507\n",
      "r3 = 4\n"
     ]
    }
   ],
   "source": [
    "r3 = r2\n",
    "while r2 == r3 or r1 == r3:\n",
    "    R2 = np.random.random()\n",
    "    r3 = round(R2 * (PS - 1))\n",
    "print(f\"R2 = {R2}\")\n",
    "print(f\"r3 = {r3}\")"
   ],
   "metadata": {
    "collapsed": false,
    "ExecuteTime": {
     "end_time": "2023-10-08T09:15:07.545850200Z",
     "start_time": "2023-10-08T09:15:07.541830200Z"
    }
   }
  },
  {
   "cell_type": "code",
   "execution_count": 174,
   "outputs": [
    {
     "name": "stdout",
     "output_type": "stream",
     "text": [
      "         X1        X2        X3\n",
      "0  0.650999 -0.270024 -1.017638\n"
     ]
    }
   ],
   "source": [
    "X1 = X[r1]\n",
    "X2 = X[r2]\n",
    "X3 = X[r3]\n",
    "df = pd.concat([pd.DataFrame(X1), pd.DataFrame(X2), pd.DataFrame(X3)], axis=1)\n",
    "df.columns = [\"X1\", \"X2\", \"X3\"]\n",
    "print(df)"
   ],
   "metadata": {
    "collapsed": false,
    "ExecuteTime": {
     "end_time": "2023-10-08T09:15:08.279648600Z",
     "start_time": "2023-10-08T09:15:08.259547100Z"
    }
   }
  },
  {
   "cell_type": "code",
   "execution_count": 175,
   "outputs": [
    {
     "name": "stdout",
     "output_type": "stream",
     "text": [
      "r = [8 7 4]\n"
     ]
    }
   ],
   "source": [
    "r = np.array([r1, r2, r3])\n",
    "print(f\"r = {r}\")"
   ],
   "metadata": {
    "collapsed": false,
    "ExecuteTime": {
     "end_time": "2023-10-08T09:15:15.634807600Z",
     "start_time": "2023-10-08T09:15:15.631300600Z"
    }
   }
  },
  {
   "cell_type": "code",
   "execution_count": 176,
   "outputs": [
    {
     "name": "stdout",
     "output_type": "stream",
     "text": [
      "D = [0.8 0.7 0.4]\n"
     ]
    }
   ],
   "source": [
    "D = 1/PS * r\n",
    "print(f\"D = {D}\")"
   ],
   "metadata": {
    "collapsed": false,
    "ExecuteTime": {
     "end_time": "2023-10-08T09:15:18.619799Z",
     "start_time": "2023-10-08T09:15:18.615292400Z"
    }
   }
  },
  {
   "cell_type": "code",
   "execution_count": 177,
   "outputs": [
    {
     "name": "stdout",
     "output_type": "stream",
     "text": [
      "V = [0.17262743 0.25894114 0.51788229]\n"
     ]
    }
   ],
   "source": [
    "V = np.random.random()*(1-D)\n",
    "print(f\"V = {V}\")"
   ],
   "metadata": {
    "collapsed": false,
    "ExecuteTime": {
     "end_time": "2023-10-08T09:15:22.207290200Z",
     "start_time": "2023-10-08T09:15:22.191735800Z"
    }
   }
  },
  {
   "cell_type": "code",
   "execution_count": 178,
   "outputs": [],
   "source": [
    "D1, D2, D3 = D\n",
    "V1, V2, V3 = V\n",
    "\n",
    "x = np.absolute(D3 - D1)\n",
    "y = np.absolute(D3 - D2)\n",
    "x1 = (V3 * x) / (V1 - V3)\n",
    "y1 = V2 * x * (V1 - V3)"
   ],
   "metadata": {
    "collapsed": false,
    "ExecuteTime": {
     "end_time": "2023-10-08T09:15:35.083921700Z",
     "start_time": "2023-10-08T09:15:35.067253300Z"
    }
   }
  },
  {
   "cell_type": "code",
   "execution_count": 167,
   "outputs": [],
   "source": [
    "if V3 < V1:\n",
    "    if (y-y1) > x1:\n",
    "        # calculations\n",
    "        pass\n",
    "    else:\n",
    "        # calculations\n",
    "        pass\n",
    "else:\n",
    "    # calculations\n",
    "    pass"
   ],
   "metadata": {
    "collapsed": false,
    "ExecuteTime": {
     "end_time": "2023-10-08T09:08:50.410465900Z",
     "start_time": "2023-10-08T09:08:50.404895700Z"
    }
   }
  }
 ],
 "metadata": {
  "kernelspec": {
   "display_name": "Python 3",
   "language": "python",
   "name": "python3"
  },
  "language_info": {
   "codemirror_mode": {
    "name": "ipython",
    "version": 2
   },
   "file_extension": ".py",
   "mimetype": "text/x-python",
   "name": "python",
   "nbconvert_exporter": "python",
   "pygments_lexer": "ipython2",
   "version": "2.7.6"
  }
 },
 "nbformat": 4,
 "nbformat_minor": 0
}
