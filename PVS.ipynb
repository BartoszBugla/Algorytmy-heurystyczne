{
 "cells": [
  {
   "attachments": {},
   "cell_type": "markdown",
   "metadata": {},
   "source": [
    "# Testy Funkcji"
   ]
  },
  {
   "cell_type": "code",
   "execution_count": 8,
   "metadata": {
    "ExecuteTime": {
     "end_time": "2023-10-28T09:29:11.838187500Z",
     "start_time": "2023-10-28T09:29:11.435539500Z"
    }
   },
   "outputs": [
    {
     "name": "stdout",
     "output_type": "stream",
     "text": [
      "The autoreload extension is already loaded. To reload it, use:\n",
      "  %reload_ext autoreload\n"
     ]
    }
   ],
   "source": [
    "\n",
    "%load_ext autoreload\n",
    "%autoreload 2\n",
    "\n",
    "from PVS import PVS\n",
    "import matplotlib.pyplot as plt\n",
    "from results import Tester\n",
    "from funcs import *\n",
    "\n",
    "\n",
    "pvs = PVS()"
   ]
  },
  {
   "cell_type": "code",
   "execution_count": 9,
   "metadata": {},
   "outputs": [],
   "source": [
    "class Solver:\n",
    "    solutions: Tester\n",
    "\n",
    "    def __init__(self, fun, ps, gen, dv, lb, ub, samples, lb_y=None, ub_y=None) -> None:\n",
    "        self.fun = fun\n",
    "        self.DV = dv\n",
    "        self.PS = ps\n",
    "        self.GEN = gen\n",
    "        self.DV = dv\n",
    "        self.LB = lb\n",
    "        self.UB = ub\n",
    "        self.samples = samples\n",
    "        self.fun_name = fun.__name__\n",
    "\n",
    "        self.ub_y = ub_y\n",
    "        self.lb_y = lb_y\n",
    "\n",
    "    def __solver(self):\n",
    "        return pvs.solve(\n",
    "            self.fun, self.PS, self.GEN, self.DV, self.LB, self.UB, self.lb_y, self.ub_y\n",
    "        )\n",
    "\n",
    "    def generate_row(self):\n",
    "        self.solutions = Tester(self.__solver, self.samples)\n",
    "\n",
    "        return [\n",
    "            \"PVS\",\n",
    "            self.fun_name,\n",
    "            self.DV,\n",
    "            self.GEN,\n",
    "            self.PS,\n",
    "            np.round(self.solutions.best_solution()[0], 3),\n",
    "            np.round(self.solutions.get_x_std(), 3),\n",
    "            \"{:.2e}\".format(self.solutions.best_solution()[1]),\n",
    "            np.round(self.solutions.get_y_std(), 3),\n",
    "            self.samples,\n",
    "            np.round(self.solutions.get_variation_x(), 3),\n",
    "            np.round(self.solutions.get_variation_y(), 3),\n",
    "            \"{:.2e}\".format(self.solutions.worst_solution()),\n",
    "            self.PS * self.GEN,\n",
    "        ]"
   ]
  },
  {
   "cell_type": "code",
   "execution_count": 11,
   "metadata": {},
   "outputs": [
    {
     "name": "stderr",
     "output_type": "stream",
     "text": [
      "/Users/bartoszbugla/Documents/school/SztucznaInteligencjaS5/results.py:48: RuntimeWarning: divide by zero encountered in divide\n",
      "  coefs = list(np.array(self.get_x_std()) / np.array(self.get_x_mean()) * 100)\n"
     ]
    },
    {
     "ename": "NameError",
     "evalue": "name 'LB' is not defined",
     "output_type": "error",
     "traceback": [
      "\u001b[0;31m---------------------------------------------------------------------------\u001b[0m",
      "\u001b[0;31mNameError\u001b[0m                                 Traceback (most recent call last)",
      "Cell \u001b[0;32mIn[11], line 15\u001b[0m\n\u001b[1;32m      1\u001b[0m \u001b[39mimport\u001b[39;00m \u001b[39mpandas\u001b[39;00m \u001b[39mas\u001b[39;00m \u001b[39mpd\u001b[39;00m\n\u001b[1;32m      3\u001b[0m samples \u001b[39m=\u001b[39m \u001b[39m20\u001b[39m\n\u001b[1;32m      4\u001b[0m df \u001b[39m=\u001b[39m pd\u001b[39m.\u001b[39mDataFrame(\n\u001b[1;32m      5\u001b[0m     [\n\u001b[1;32m      6\u001b[0m         \u001b[39m# rastrigin\u001b[39;00m\n\u001b[1;32m      7\u001b[0m         Solver(Rastrigin, \u001b[39m20\u001b[39m, \u001b[39m200\u001b[39m, \u001b[39m2\u001b[39m, \u001b[39m-\u001b[39m\u001b[39m5.12\u001b[39m, \u001b[39m5.12\u001b[39m, samples)\u001b[39m.\u001b[39mgenerate_row(),\n\u001b[1;32m      8\u001b[0m         Solver(Rastrigin, \u001b[39m50\u001b[39m, \u001b[39m500\u001b[39m, \u001b[39m5\u001b[39m, \u001b[39m-\u001b[39m\u001b[39m5.12\u001b[39m, \u001b[39m5.12\u001b[39m, samples)\u001b[39m.\u001b[39mgenerate_row(),\n\u001b[1;32m      9\u001b[0m         Solver(Rastrigin, \u001b[39m100\u001b[39m, \u001b[39m1000\u001b[39m, \u001b[39m10\u001b[39m, \u001b[39m-\u001b[39m\u001b[39m5.12\u001b[39m, \u001b[39m5.12\u001b[39m, samples)\u001b[39m.\u001b[39mgenerate_row(),\n\u001b[1;32m     10\u001b[0m         \n\u001b[1;32m     11\u001b[0m         Solver(Rosenbrock, \u001b[39m20\u001b[39m, \u001b[39m50\u001b[39m, \u001b[39m2\u001b[39m, \u001b[39m-\u001b[39m\u001b[39m20\u001b[39m, \u001b[39m20\u001b[39m, samples)\u001b[39m.\u001b[39mgenerate_row(),\n\u001b[1;32m     12\u001b[0m         Solver(Rosenbrock, \u001b[39m50\u001b[39m, \u001b[39m500\u001b[39m, \u001b[39m5\u001b[39m, \u001b[39m-\u001b[39m\u001b[39m20\u001b[39m, \u001b[39m20\u001b[39m, samples)\u001b[39m.\u001b[39mgenerate_row(),\n\u001b[1;32m     13\u001b[0m         Solver(Rosenbrock, \u001b[39m100\u001b[39m, \u001b[39m1000\u001b[39m, \u001b[39m10\u001b[39m, \u001b[39m-\u001b[39m\u001b[39m20\u001b[39m, \u001b[39m20\u001b[39m, samples)\u001b[39m.\u001b[39mgenerate_row(),\n\u001b[1;32m     14\u001b[0m         \n\u001b[0;32m---> 15\u001b[0m         Solver(Sphere, \u001b[39m20\u001b[39;49m, \u001b[39m50\u001b[39;49m, \u001b[39m2\u001b[39;49m, \u001b[39m20\u001b[39;49m,\u001b[39m20\u001b[39;49m, samples)\u001b[39m.\u001b[39;49mgenerate_row(),\n\u001b[1;32m     16\u001b[0m         Solver(Sphere, \u001b[39m50\u001b[39m, \u001b[39m100\u001b[39m, \u001b[39m5\u001b[39m, \u001b[39m20\u001b[39m, \u001b[39m20\u001b[39m, samples)\u001b[39m.\u001b[39mgenerate_row(),\n\u001b[1;32m     17\u001b[0m         Solver(Sphere, \u001b[39m100\u001b[39m, \u001b[39m1000\u001b[39m, \u001b[39m10\u001b[39m, \u001b[39m20\u001b[39m, \u001b[39m20\u001b[39m, samples)\u001b[39m.\u001b[39mgenerate_row(),\n\u001b[1;32m     18\u001b[0m         \n\u001b[1;32m     19\u001b[0m         Solver(Beale, \u001b[39m20\u001b[39m, \u001b[39m50\u001b[39m, \u001b[39m2\u001b[39m, \u001b[39m-\u001b[39m\u001b[39m4.5\u001b[39m, \u001b[39m4.5\u001b[39m, samples)\u001b[39m.\u001b[39mgenerate_row(),\n\u001b[1;32m     20\u001b[0m         Solver(Beale, \u001b[39m40\u001b[39m, \u001b[39m100\u001b[39m, \u001b[39m2\u001b[39m, \u001b[39m-\u001b[39m\u001b[39m4.5\u001b[39m, \u001b[39m4.5\u001b[39m, samples)\u001b[39m.\u001b[39mgenerate_row(),\n\u001b[1;32m     21\u001b[0m         \n\u001b[1;32m     22\u001b[0m         Solver(Bukin, \u001b[39m20\u001b[39m, \u001b[39m100\u001b[39m, \u001b[39m2\u001b[39m, \u001b[39m-\u001b[39m\u001b[39m15\u001b[39m, \u001b[39m-\u001b[39m\u001b[39m5\u001b[39m, samples, \u001b[39m-\u001b[39m\u001b[39m3\u001b[39m,\u001b[39m3\u001b[39m)\u001b[39m.\u001b[39mgenerate_row(),\n\u001b[1;32m     23\u001b[0m         Solver(Bukin, \u001b[39m40\u001b[39m, \u001b[39m200\u001b[39m, \u001b[39m2\u001b[39m, \u001b[39m-\u001b[39m\u001b[39m15\u001b[39m, \u001b[39m-\u001b[39m\u001b[39m5\u001b[39m, samples, \u001b[39m-\u001b[39m\u001b[39m3\u001b[39m, \u001b[39m3\u001b[39m)\u001b[39m.\u001b[39mgenerate_row(),\n\u001b[1;32m     24\u001b[0m         \n\u001b[1;32m     25\u001b[0m         Solver(Himmelblau, \u001b[39m20\u001b[39m, \u001b[39m50\u001b[39m, \u001b[39m2\u001b[39m, \u001b[39m-\u001b[39m\u001b[39m5\u001b[39m, \u001b[39m5\u001b[39m, samples)\u001b[39m.\u001b[39mgenerate_row(),\n\u001b[1;32m     26\u001b[0m         Solver(Himmelblau, \u001b[39m40\u001b[39m, \u001b[39m100\u001b[39m, \u001b[39m2\u001b[39m, \u001b[39m-\u001b[39m\u001b[39m5\u001b[39m, \u001b[39m5\u001b[39m, samples)\u001b[39m.\u001b[39mgenerate_row(),\n\u001b[1;32m     27\u001b[0m     ],\n\u001b[1;32m     28\u001b[0m     columns\u001b[39m=\u001b[39m[\n\u001b[1;32m     29\u001b[0m         \u001b[39m\"\u001b[39m\u001b[39mNazwa Alogrytmu\u001b[39m\u001b[39m\"\u001b[39m,\n\u001b[1;32m     30\u001b[0m         \u001b[39m\"\u001b[39m\u001b[39mFunkcja testowa\u001b[39m\u001b[39m\"\u001b[39m,\n\u001b[1;32m     31\u001b[0m         \u001b[39m\"\u001b[39m\u001b[39mIlość szukanych parametrów\u001b[39m\u001b[39m\"\u001b[39m,\n\u001b[1;32m     32\u001b[0m         \u001b[39m\"\u001b[39m\u001b[39mLiczba Iteracji\u001b[39m\u001b[39m\"\u001b[39m,\n\u001b[1;32m     33\u001b[0m         \u001b[39m\"\u001b[39m\u001b[39mRozmiar populacji\u001b[39m\u001b[39m\"\u001b[39m,\n\u001b[1;32m     34\u001b[0m         \u001b[39m\"\u001b[39m\u001b[39mZnalezione minimum\u001b[39m\u001b[39m\"\u001b[39m,\n\u001b[1;32m     35\u001b[0m         \u001b[39m\"\u001b[39m\u001b[39mOdchylenie standardowe poszukiwanych parametrów\u001b[39m\u001b[39m\"\u001b[39m,\n\u001b[1;32m     36\u001b[0m         \u001b[39m\"\u001b[39m\u001b[39mWartosć funkcji celu\u001b[39m\u001b[39m\"\u001b[39m,\n\u001b[1;32m     37\u001b[0m         \u001b[39m\"\u001b[39m\u001b[39mOdchylenie standardowe wartośći funkcji celu\u001b[39m\u001b[39m\"\u001b[39m,\n\u001b[1;32m     38\u001b[0m         \u001b[39m\"\u001b[39m\u001b[39mIlość próbek\u001b[39m\u001b[39m\"\u001b[39m,\n\u001b[1;32m     39\u001b[0m         \u001b[39m\"\u001b[39m\u001b[39mWskaźnik zmiennośći parametrów\u001b[39m\u001b[39m\"\u001b[39m,\n\u001b[1;32m     40\u001b[0m         \u001b[39m\"\u001b[39m\u001b[39mWskaźnik zmienności funkcji\u001b[39m\u001b[39m\"\u001b[39m,\n\u001b[1;32m     41\u001b[0m         \u001b[39m\"\u001b[39m\u001b[39mNajgorszy wynik\u001b[39m\u001b[39m\"\u001b[39m,\n\u001b[1;32m     42\u001b[0m         \u001b[39m\"\u001b[39m\u001b[39mIlosć przeliczeń funkcji\u001b[39m\u001b[39m\"\u001b[39m,\n\u001b[1;32m     43\u001b[0m     ],\n\u001b[1;32m     44\u001b[0m )\n\u001b[1;32m     45\u001b[0m \u001b[39m# df.to_excel(\"text.xlsx\")\u001b[39;00m\n\u001b[1;32m     46\u001b[0m df\n",
      "Cell \u001b[0;32mIn[9], line 23\u001b[0m, in \u001b[0;36mSolver.generate_row\u001b[0;34m(self)\u001b[0m\n\u001b[1;32m     22\u001b[0m \u001b[39mdef\u001b[39;00m \u001b[39mgenerate_row\u001b[39m(\u001b[39mself\u001b[39m):\n\u001b[0;32m---> 23\u001b[0m     \u001b[39mself\u001b[39m\u001b[39m.\u001b[39msolutions \u001b[39m=\u001b[39m Tester(\u001b[39mself\u001b[39;49m\u001b[39m.\u001b[39;49m__solver, \u001b[39mself\u001b[39;49m\u001b[39m.\u001b[39;49msamples)\n\u001b[1;32m     25\u001b[0m     \u001b[39mreturn\u001b[39;00m [\n\u001b[1;32m     26\u001b[0m         \u001b[39m\"\u001b[39m\u001b[39mPVS\u001b[39m\u001b[39m\"\u001b[39m,\n\u001b[1;32m     27\u001b[0m         \u001b[39mself\u001b[39m\u001b[39m.\u001b[39mfun_name,\n\u001b[0;32m   (...)\u001b[0m\n\u001b[1;32m     39\u001b[0m         \u001b[39mself\u001b[39m\u001b[39m.\u001b[39mPS \u001b[39m*\u001b[39m \u001b[39mself\u001b[39m\u001b[39m.\u001b[39mGEN,\n\u001b[1;32m     40\u001b[0m     ]\n",
      "File \u001b[0;32m~/Documents/school/SztucznaInteligencjaS5/results.py:10\u001b[0m, in \u001b[0;36mTester.__init__\u001b[0;34m(self, solution, samples)\u001b[0m\n\u001b[1;32m      9\u001b[0m \u001b[39mdef\u001b[39;00m \u001b[39m__init__\u001b[39m(\u001b[39mself\u001b[39m, solution, samples):\n\u001b[0;32m---> 10\u001b[0m     \u001b[39mself\u001b[39m\u001b[39m.\u001b[39msolutions \u001b[39m=\u001b[39m [solution() \u001b[39mfor\u001b[39;49;00m i \u001b[39min\u001b[39;49;00m \u001b[39mrange\u001b[39;49m(samples)]\n\u001b[1;32m     11\u001b[0m     \u001b[39mself\u001b[39m\u001b[39m.\u001b[39my \u001b[39m=\u001b[39m [x[\u001b[39m1\u001b[39m] \u001b[39mfor\u001b[39;00m x \u001b[39min\u001b[39;00m \u001b[39mself\u001b[39m\u001b[39m.\u001b[39msolutions]\n\u001b[1;32m     12\u001b[0m     \u001b[39mself\u001b[39m\u001b[39m.\u001b[39mx \u001b[39m=\u001b[39m [x[\u001b[39m0\u001b[39m] \u001b[39mfor\u001b[39;00m x \u001b[39min\u001b[39;00m \u001b[39mself\u001b[39m\u001b[39m.\u001b[39msolutions]\n",
      "File \u001b[0;32m~/Documents/school/SztucznaInteligencjaS5/results.py:10\u001b[0m, in \u001b[0;36m<listcomp>\u001b[0;34m(.0)\u001b[0m\n\u001b[1;32m      9\u001b[0m \u001b[39mdef\u001b[39;00m \u001b[39m__init__\u001b[39m(\u001b[39mself\u001b[39m, solution, samples):\n\u001b[0;32m---> 10\u001b[0m     \u001b[39mself\u001b[39m\u001b[39m.\u001b[39msolutions \u001b[39m=\u001b[39m [solution() \u001b[39mfor\u001b[39;00m i \u001b[39min\u001b[39;00m \u001b[39mrange\u001b[39m(samples)]\n\u001b[1;32m     11\u001b[0m     \u001b[39mself\u001b[39m\u001b[39m.\u001b[39my \u001b[39m=\u001b[39m [x[\u001b[39m1\u001b[39m] \u001b[39mfor\u001b[39;00m x \u001b[39min\u001b[39;00m \u001b[39mself\u001b[39m\u001b[39m.\u001b[39msolutions]\n\u001b[1;32m     12\u001b[0m     \u001b[39mself\u001b[39m\u001b[39m.\u001b[39mx \u001b[39m=\u001b[39m [x[\u001b[39m0\u001b[39m] \u001b[39mfor\u001b[39;00m x \u001b[39min\u001b[39;00m \u001b[39mself\u001b[39m\u001b[39m.\u001b[39msolutions]\n",
      "Cell \u001b[0;32mIn[9], line 20\u001b[0m, in \u001b[0;36mSolver.__solver\u001b[0;34m(self)\u001b[0m\n\u001b[1;32m     19\u001b[0m \u001b[39mdef\u001b[39;00m \u001b[39m__solver\u001b[39m(\u001b[39mself\u001b[39m):\n\u001b[0;32m---> 20\u001b[0m     \u001b[39mreturn\u001b[39;00m pvs\u001b[39m.\u001b[39;49msolve(\u001b[39mself\u001b[39;49m\u001b[39m.\u001b[39;49mfun, \u001b[39mself\u001b[39;49m\u001b[39m.\u001b[39;49mPS, \u001b[39mself\u001b[39;49m\u001b[39m.\u001b[39;49mGEN, \u001b[39mself\u001b[39;49m\u001b[39m.\u001b[39;49mDV, \u001b[39mself\u001b[39;49m\u001b[39m.\u001b[39;49mLB, \u001b[39mself\u001b[39;49m\u001b[39m.\u001b[39;49mUB, \u001b[39mself\u001b[39;49m\u001b[39m.\u001b[39;49mlb_y, \u001b[39mself\u001b[39;49m\u001b[39m.\u001b[39;49mub_y)\n",
      "File \u001b[0;32m~/Documents/school/SztucznaInteligencjaS5/PVS.py:99\u001b[0m, in \u001b[0;36mPVS.solve\u001b[0;34m(self, fun, PS, GEN, DV, LB_X, UB_X, LB_Y, UB_Y)\u001b[0m\n\u001b[1;32m     97\u001b[0m         \u001b[39mif\u001b[39;00m \u001b[39mall\u001b[39m(X[k] \u001b[39m==\u001b[39m X[k \u001b[39m+\u001b[39m \u001b[39m1\u001b[39m]):\n\u001b[1;32m     98\u001b[0m             i \u001b[39m=\u001b[39m np\u001b[39m.\u001b[39mrandom\u001b[39m.\u001b[39mrandint(\u001b[39m0\u001b[39m, DV)\n\u001b[0;32m---> 99\u001b[0m             X[k \u001b[39m+\u001b[39m \u001b[39m1\u001b[39m][i] \u001b[39m=\u001b[39m LB \u001b[39m+\u001b[39m np\u001b[39m.\u001b[39mrandom\u001b[39m.\u001b[39mrandom() \u001b[39m*\u001b[39m (UB \u001b[39m-\u001b[39m LB)\n\u001b[1;32m    101\u001b[0m X \u001b[39m=\u001b[39m np\u001b[39m.\u001b[39marray(\u001b[39msorted\u001b[39m(X, key\u001b[39m=\u001b[39m\u001b[39mlambda\u001b[39;00m x: Y\u001b[39m.\u001b[39mget(x), reverse\u001b[39m=\u001b[39m\u001b[39mFalse\u001b[39;00m))\n\u001b[1;32m    102\u001b[0m \u001b[39mfor\u001b[39;00m i, solution \u001b[39min\u001b[39;00m \u001b[39menumerate\u001b[39m(last_best):\n",
      "\u001b[0;31mNameError\u001b[0m: name 'LB' is not defined"
     ]
    }
   ],
   "source": [
    "import pandas as pd\n",
    "\n",
    "samples = 20\n",
    "df = pd.DataFrame(\n",
    "    [\n",
    "        # rastrigin\n",
    "        Solver(Rastrigin, 20, 200, 2, -5.12, 5.12, samples).generate_row(),\n",
    "        Solver(Rastrigin, 50, 500, 5, -5.12, 5.12, samples).generate_row(),\n",
    "        Solver(Rastrigin, 100, 1000, 10, -5.12, 5.12, samples).generate_row(),\n",
    "        \n",
    "        Solver(Rosenbrock, 20, 50, 2, -20, 20, samples).generate_row(),\n",
    "        Solver(Rosenbrock, 50, 500, 5, -20, 20, samples).generate_row(),\n",
    "        Solver(Rosenbrock, 100, 1000, 10, -20, 20, samples).generate_row(),\n",
    "        \n",
    "        Solver(Sphere, 20, 50, 2, 20,20, samples).generate_row(),\n",
    "        Solver(Sphere, 50, 100, 5, 20, 20, samples).generate_row(),\n",
    "        Solver(Sphere, 100, 1000, 10, 20, 20, samples).generate_row(),\n",
    "        \n",
    "        Solver(Beale, 20, 50, 2, -4.5, 4.5, samples).generate_row(),\n",
    "        Solver(Beale, 40, 100, 2, -4.5, 4.5, samples).generate_row(),\n",
    "        \n",
    "        Solver(Bukin, 20, 100, 2, -15, -5, samples, -3,3).generate_row(),\n",
    "        Solver(Bukin, 40, 200, 2, -15, -5, samples, -3, 3).generate_row(),\n",
    "        \n",
    "        Solver(Himmelblau, 20, 50, 2, -5, 5, samples).generate_row(),\n",
    "        Solver(Himmelblau, 40, 100, 2, -5, 5, samples).generate_row(),\n",
    "    ],\n",
    "    columns=[\n",
    "        \"Nazwa Alogrytmu\",\n",
    "        \"Funkcja testowa\",\n",
    "        \"Ilość szukanych parametrów\",\n",
    "        \"Liczba Iteracji\",\n",
    "        \"Rozmiar populacji\",\n",
    "        \"Znalezione minimum\",\n",
    "        \"Odchylenie standardowe poszukiwanych parametrów\",\n",
    "        \"Wartosć funkcji celu\",\n",
    "        \"Odchylenie standardowe wartośći funkcji celu\",\n",
    "        \"Ilość próbek\",\n",
    "        \"Wskaźnik zmiennośći parametrów\",\n",
    "        \"Wskaźnik zmienności funkcji\",\n",
    "        \"Najgorszy wynik\",\n",
    "        \"Ilosć przeliczeń funkcji\",\n",
    "    ],\n",
    ")\n",
    "# df.to_excel(\"text.xlsx\")\n",
    "df"
   ]
  },
  {
   "cell_type": "code",
   "execution_count": null,
   "metadata": {},
   "outputs": [],
   "source": []
  }
 ],
 "metadata": {
  "kernelspec": {
   "display_name": "Python 3",
   "language": "python",
   "name": "python3"
  },
  "language_info": {
   "codemirror_mode": {
    "name": "ipython",
    "version": 3
   },
   "file_extension": ".py",
   "mimetype": "text/x-python",
   "name": "python",
   "nbconvert_exporter": "python",
   "pygments_lexer": "ipython3",
   "version": "3.11.5"
  }
 },
 "nbformat": 4,
 "nbformat_minor": 0
}
